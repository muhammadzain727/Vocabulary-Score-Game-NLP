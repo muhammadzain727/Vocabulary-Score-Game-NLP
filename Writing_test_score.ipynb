{
 "cells": [
  {
   "cell_type": "code",
   "execution_count": 1,
   "id": "79196650",
   "metadata": {},
   "outputs": [
    {
     "name": "stdout",
     "output_type": "stream",
     "text": [
      "Requirement already satisfied: nltk in c:\\users\\zain\\anaconda3\\lib\\site-packages (3.7)\n",
      "Requirement already satisfied: tqdm in c:\\users\\zain\\anaconda3\\lib\\site-packages (from nltk) (4.64.1)\n",
      "Requirement already satisfied: joblib in c:\\users\\zain\\anaconda3\\lib\\site-packages (from nltk) (1.1.1)\n",
      "Requirement already satisfied: click in c:\\users\\zain\\anaconda3\\lib\\site-packages (from nltk) (8.0.4)\n",
      "Requirement already satisfied: regex>=2021.8.3 in c:\\users\\zain\\anaconda3\\lib\\site-packages (from nltk) (2022.7.9)\n",
      "Requirement already satisfied: colorama in c:\\users\\zain\\anaconda3\\lib\\site-packages (from click->nltk) (0.4.6)\n",
      "Note: you may need to restart the kernel to use updated packages.\n"
     ]
    }
   ],
   "source": [
    "pip install nltk"
   ]
  },
  {
   "cell_type": "code",
   "execution_count": 2,
   "id": "d501db1e",
   "metadata": {},
   "outputs": [],
   "source": [
    "import nltk\n",
    "from nltk.corpus import words\n",
    "from nltk import word_tokenize\n",
    "from nltk import sent_tokenize\n",
    "from nltk.corpus import stopwords\n",
    "import pandas as pd\n",
    "import string\n",
    "from nltk.stem import WordNetLemmatizer"
   ]
  },
  {
   "cell_type": "code",
   "execution_count": 3,
   "id": "46f7db1e",
   "metadata": {},
   "outputs": [
    {
     "name": "stderr",
     "output_type": "stream",
     "text": [
      "[nltk_data] Downloading package punkt to\n",
      "[nltk_data]     C:\\Users\\Zain\\AppData\\Roaming\\nltk_data...\n",
      "[nltk_data]   Package punkt is already up-to-date!\n"
     ]
    },
    {
     "data": {
      "text/plain": [
       "True"
      ]
     },
     "execution_count": 3,
     "metadata": {},
     "output_type": "execute_result"
    }
   ],
   "source": [
    "nltk.download('punkt')"
   ]
  },
  {
   "cell_type": "code",
   "execution_count": 4,
   "id": "1a0984f1",
   "metadata": {},
   "outputs": [
    {
     "data": {
      "text/plain": [
       "\"introduction:\\n\\ncity life is a dynamic and multifaceted experience that encompasses a wide array of contrasts, challenges, and opportunities. as urbanization continues to shape the modern world, more people find themselves drawn to the vibrancy and excitement of city living. in this essay, we will explore the intricate tapestry of city life, examining its diverse aspects, from the bustling streets and towering skyscrapers to the social dynamics and cultural richness that define urban existence.\\n\\nthe dynamic pulse of the city:\\n\\ncities are the beating hearts of human civilization, pulsating with energy and activity. the constant hum of traffic, the towering skyscrapers that pierce the skyline, and the labyrinthine streets filled with diverse faces create a vivid tapestry that characterizes city life. the city's dynamic nature is reflected in its ability to evolve, adapt, and accommodate the ever-changing needs and aspirations of its inhabitants.\\n\\ncontrasts in city living:\\n\\ncity life is a juxtaposition of contrasts that coexist harmoniously, creating a rich mosaic of experiences. on one hand, there are the glittering symbols of progress and modernity â€“ the skyscrapers, shopping malls, and technological marvels that define urban landscapes. on the other hand, there are pockets of history, culture, and tradition, preserved in the architecture of old neighborhoods, historic landmarks, and cultural institutions. this dichotomy of the old and the new, the fast-paced and the leisurely, is a defining feature of city living.\\n\\nsocial dynamics and diversity:\\n\\ncities are melting pots of diversity, bringing together people from various backgrounds, cultures, and walks of life. this diversity fosters a unique social dynamic, where interactions between individuals lead to the exchange of ideas, perspectives, and traditions. the city becomes a microcosm of the broader world, offering a glimpse into the richness of human experiences. however, this diversity can also give rise to social challenges, as different groups navigate their coexistence, bringing to the forefront issues of inequality, discrimination, and social justice.\\n\\ncultural richness and urban arts:\\n\\ncity life is often synonymous with a vibrant cultural scene. theatres, galleries, museums, and performance spaces abound, offering a plethora of cultural experiences for residents and visitors alike. urban arts, including street art, public installations, and performances, contribute to the city's unique identity. the cultural richness of cities is a testament to the human spirit's creative expression, serving as a source of inspiration and a reflection of societal values.\\n\\nchallenges of city living:\\n\\nwhile city life offers numerous opportunities, it also presents a set of challenges. overcrowding, traffic congestion, and environmental pollution are common issues faced by city dwellers. the fast-paced lifestyle can lead to stress, anxiety, and a sense of isolation. the high cost of living in cities, exacerbated by soaring housing prices, can create economic disparities and limit accessibility to certain segments of the population. addressing these challenges requires innovative urban planning, sustainable development, and a commitment to enhancing the quality of life for all residents.\\n\\nopportunities for personal and professional growth:\\n\\ncity life is often synonymous with professional and educational opportunities. cities are hubs of innovation, commerce, and academia, providing individuals with the chance to pursue their aspirations and dreams. educational institutions, research centers, and job markets attract ambitious individuals seeking to advance their careers and broaden their horizons. the exposure to diverse industries and networks fosters personal and professional growth, allowing individuals to carve unique paths in their chosen fields.\\n\\nthe urban green spaces:\\n\\namidst the concrete jungle, cities also offer oases of greenery in the form of parks, gardens, and recreational spaces. these areas serve as essential breathing spaces, allowing residents to escape the hustle and bustle of city life, connect with nature, and engage in recreational activities. urban planners recognize the importance of incorporating green spaces into city design, not only for environmental sustainability but also for the well-being of the residents.\\n\\nconclusion:\\n\\ncity life is a complex and multifaceted experience that captures the essence of human civilization's evolution. from the towering skyscrapers that touch the heavens to the vibrant street life that buzzes with activity, cities are living entities shaped by the dreams, aspirations, and challenges of their inhabitants. while city living may come with its set of contrasts and challenges, the opportunities for personal and professional growth, cultural enrichment, and diverse social interactions make it a compelling and ever-evolving chapter in the human story. in the grand tapestry of urban existence, each city contributes its unique thread, weaving together a narrative of progress, diversity, and the shared human experience.\""
      ]
     },
     "execution_count": 4,
     "metadata": {},
     "output_type": "execute_result"
    }
   ],
   "source": [
    "file_path = \"Essay3.txt\"\n",
    "with open(file_path, 'r') as file:\n",
    "    file_contents = file.read()\n",
    "text=file_contents.lower()\n",
    "text"
   ]
  },
  {
   "cell_type": "code",
   "execution_count": 5,
   "id": "36af5cde",
   "metadata": {},
   "outputs": [
    {
     "name": "stdout",
     "output_type": "stream",
     "text": [
      "['introduction', ':', 'city', 'life', 'is', 'a', 'dynamic', 'and', 'multifaceted', 'experience', 'that', 'encompasses', 'a', 'wide', 'array', 'of', 'contrasts', ',', 'challenges', ',', 'and', 'opportunities', '.', 'as', 'urbanization', 'continues', 'to', 'shape', 'the', 'modern', 'world', ',', 'more', 'people', 'find', 'themselves', 'drawn', 'to', 'the', 'vibrancy', 'and', 'excitement', 'of', 'city', 'living', '.', 'in', 'this', 'essay', ',', 'we', 'will', 'explore', 'the', 'intricate', 'tapestry', 'of', 'city', 'life', ',', 'examining', 'its', 'diverse', 'aspects', ',', 'from', 'the', 'bustling', 'streets', 'and', 'towering', 'skyscrapers', 'to', 'the', 'social', 'dynamics', 'and', 'cultural', 'richness', 'that', 'define', 'urban', 'existence', '.', 'the', 'dynamic', 'pulse', 'of', 'the', 'city', ':', 'cities', 'are', 'the', 'beating', 'hearts', 'of', 'human', 'civilization', ',', 'pulsating', 'with', 'energy', 'and', 'activity', '.', 'the', 'constant', 'hum', 'of', 'traffic', ',', 'the', 'towering', 'skyscrapers', 'that', 'pierce', 'the', 'skyline', ',', 'and', 'the', 'labyrinthine', 'streets', 'filled', 'with', 'diverse', 'faces', 'create', 'a', 'vivid', 'tapestry', 'that', 'characterizes', 'city', 'life', '.', 'the', 'city', \"'s\", 'dynamic', 'nature', 'is', 'reflected', 'in', 'its', 'ability', 'to', 'evolve', ',', 'adapt', ',', 'and', 'accommodate', 'the', 'ever-changing', 'needs', 'and', 'aspirations', 'of', 'its', 'inhabitants', '.', 'contrasts', 'in', 'city', 'living', ':', 'city', 'life', 'is', 'a', 'juxtaposition', 'of', 'contrasts', 'that', 'coexist', 'harmoniously', ',', 'creating', 'a', 'rich', 'mosaic', 'of', 'experiences', '.', 'on', 'one', 'hand', ',', 'there', 'are', 'the', 'glittering', 'symbols', 'of', 'progress', 'and', 'modernity', 'â€', '“', 'the', 'skyscrapers', ',', 'shopping', 'malls', ',', 'and', 'technological', 'marvels', 'that', 'define', 'urban', 'landscapes', '.', 'on', 'the', 'other', 'hand', ',', 'there', 'are', 'pockets', 'of', 'history', ',', 'culture', ',', 'and', 'tradition', ',', 'preserved', 'in', 'the', 'architecture', 'of', 'old', 'neighborhoods', ',', 'historic', 'landmarks', ',', 'and', 'cultural', 'institutions', '.', 'this', 'dichotomy', 'of', 'the', 'old', 'and', 'the', 'new', ',', 'the', 'fast-paced', 'and', 'the', 'leisurely', ',', 'is', 'a', 'defining', 'feature', 'of', 'city', 'living', '.', 'social', 'dynamics', 'and', 'diversity', ':', 'cities', 'are', 'melting', 'pots', 'of', 'diversity', ',', 'bringing', 'together', 'people', 'from', 'various', 'backgrounds', ',', 'cultures', ',', 'and', 'walks', 'of', 'life', '.', 'this', 'diversity', 'fosters', 'a', 'unique', 'social', 'dynamic', ',', 'where', 'interactions', 'between', 'individuals', 'lead', 'to', 'the', 'exchange', 'of', 'ideas', ',', 'perspectives', ',', 'and', 'traditions', '.', 'the', 'city', 'becomes', 'a', 'microcosm', 'of', 'the', 'broader', 'world', ',', 'offering', 'a', 'glimpse', 'into', 'the', 'richness', 'of', 'human', 'experiences', '.', 'however', ',', 'this', 'diversity', 'can', 'also', 'give', 'rise', 'to', 'social', 'challenges', ',', 'as', 'different', 'groups', 'navigate', 'their', 'coexistence', ',', 'bringing', 'to', 'the', 'forefront', 'issues', 'of', 'inequality', ',', 'discrimination', ',', 'and', 'social', 'justice', '.', 'cultural', 'richness', 'and', 'urban', 'arts', ':', 'city', 'life', 'is', 'often', 'synonymous', 'with', 'a', 'vibrant', 'cultural', 'scene', '.', 'theatres', ',', 'galleries', ',', 'museums', ',', 'and', 'performance', 'spaces', 'abound', ',', 'offering', 'a', 'plethora', 'of', 'cultural', 'experiences', 'for', 'residents', 'and', 'visitors', 'alike', '.', 'urban', 'arts', ',', 'including', 'street', 'art', ',', 'public', 'installations', ',', 'and', 'performances', ',', 'contribute', 'to', 'the', 'city', \"'s\", 'unique', 'identity', '.', 'the', 'cultural', 'richness', 'of', 'cities', 'is', 'a', 'testament', 'to', 'the', 'human', 'spirit', \"'s\", 'creative', 'expression', ',', 'serving', 'as', 'a', 'source', 'of', 'inspiration', 'and', 'a', 'reflection', 'of', 'societal', 'values', '.', 'challenges', 'of', 'city', 'living', ':', 'while', 'city', 'life', 'offers', 'numerous', 'opportunities', ',', 'it', 'also', 'presents', 'a', 'set', 'of', 'challenges', '.', 'overcrowding', ',', 'traffic', 'congestion', ',', 'and', 'environmental', 'pollution', 'are', 'common', 'issues', 'faced', 'by', 'city', 'dwellers', '.', 'the', 'fast-paced', 'lifestyle', 'can', 'lead', 'to', 'stress', ',', 'anxiety', ',', 'and', 'a', 'sense', 'of', 'isolation', '.', 'the', 'high', 'cost', 'of', 'living', 'in', 'cities', ',', 'exacerbated', 'by', 'soaring', 'housing', 'prices', ',', 'can', 'create', 'economic', 'disparities', 'and', 'limit', 'accessibility', 'to', 'certain', 'segments', 'of', 'the', 'population', '.', 'addressing', 'these', 'challenges', 'requires', 'innovative', 'urban', 'planning', ',', 'sustainable', 'development', ',', 'and', 'a', 'commitment', 'to', 'enhancing', 'the', 'quality', 'of', 'life', 'for', 'all', 'residents', '.', 'opportunities', 'for', 'personal', 'and', 'professional', 'growth', ':', 'city', 'life', 'is', 'often', 'synonymous', 'with', 'professional', 'and', 'educational', 'opportunities', '.', 'cities', 'are', 'hubs', 'of', 'innovation', ',', 'commerce', ',', 'and', 'academia', ',', 'providing', 'individuals', 'with', 'the', 'chance', 'to', 'pursue', 'their', 'aspirations', 'and', 'dreams', '.', 'educational', 'institutions', ',', 'research', 'centers', ',', 'and', 'job', 'markets', 'attract', 'ambitious', 'individuals', 'seeking', 'to', 'advance', 'their', 'careers', 'and', 'broaden', 'their', 'horizons', '.', 'the', 'exposure', 'to', 'diverse', 'industries', 'and', 'networks', 'fosters', 'personal', 'and', 'professional', 'growth', ',', 'allowing', 'individuals', 'to', 'carve', 'unique', 'paths', 'in', 'their', 'chosen', 'fields', '.', 'the', 'urban', 'green', 'spaces', ':', 'amidst', 'the', 'concrete', 'jungle', ',', 'cities', 'also', 'offer', 'oases', 'of', 'greenery', 'in', 'the', 'form', 'of', 'parks', ',', 'gardens', ',', 'and', 'recreational', 'spaces', '.', 'these', 'areas', 'serve', 'as', 'essential', 'breathing', 'spaces', ',', 'allowing', 'residents', 'to', 'escape', 'the', 'hustle', 'and', 'bustle', 'of', 'city', 'life', ',', 'connect', 'with', 'nature', ',', 'and', 'engage', 'in', 'recreational', 'activities', '.', 'urban', 'planners', 'recognize', 'the', 'importance', 'of', 'incorporating', 'green', 'spaces', 'into', 'city', 'design', ',', 'not', 'only', 'for', 'environmental', 'sustainability', 'but', 'also', 'for', 'the', 'well-being', 'of', 'the', 'residents', '.', 'conclusion', ':', 'city', 'life', 'is', 'a', 'complex', 'and', 'multifaceted', 'experience', 'that', 'captures', 'the', 'essence', 'of', 'human', 'civilization', \"'s\", 'evolution', '.', 'from', 'the', 'towering', 'skyscrapers', 'that', 'touch', 'the', 'heavens', 'to', 'the', 'vibrant', 'street', 'life', 'that', 'buzzes', 'with', 'activity', ',', 'cities', 'are', 'living', 'entities', 'shaped', 'by', 'the', 'dreams', ',', 'aspirations', ',', 'and', 'challenges', 'of', 'their', 'inhabitants', '.', 'while', 'city', 'living', 'may', 'come', 'with', 'its']\n"
     ]
    },
    {
     "data": {
      "text/plain": [
       "800"
      ]
     },
     "execution_count": 5,
     "metadata": {},
     "output_type": "execute_result"
    }
   ],
   "source": [
    "words = nltk.word_tokenize(text)\n",
    "sentences = nltk.sent_tokenize(text)\n",
    "words=words[:800]\n",
    "print(words)\n",
    "no_of_words=len(words)\n",
    "no_of_words"
   ]
  },
  {
   "cell_type": "code",
   "execution_count": 6,
   "id": "9cf567b5",
   "metadata": {},
   "outputs": [
    {
     "name": "stderr",
     "output_type": "stream",
     "text": [
      "[nltk_data] Downloading package omw-1.4 to\n",
      "[nltk_data]     C:\\Users\\Zain\\AppData\\Roaming\\nltk_data...\n",
      "[nltk_data]   Package omw-1.4 is already up-to-date!\n"
     ]
    },
    {
     "data": {
      "text/plain": [
       "True"
      ]
     },
     "execution_count": 6,
     "metadata": {},
     "output_type": "execute_result"
    }
   ],
   "source": [
    "nltk.download('omw-1.4')"
   ]
  },
  {
   "cell_type": "code",
   "execution_count": 7,
   "id": "93a738f0",
   "metadata": {},
   "outputs": [
    {
     "name": "stderr",
     "output_type": "stream",
     "text": [
      "[nltk_data] Downloading package stopwords to\n",
      "[nltk_data]     C:\\Users\\Zain\\AppData\\Roaming\\nltk_data...\n",
      "[nltk_data]   Package stopwords is already up-to-date!\n"
     ]
    },
    {
     "data": {
      "text/plain": [
       "True"
      ]
     },
     "execution_count": 7,
     "metadata": {},
     "output_type": "execute_result"
    }
   ],
   "source": [
    "nltk.download('stopwords')"
   ]
  },
  {
   "cell_type": "code",
   "execution_count": 8,
   "id": "863c46c5",
   "metadata": {},
   "outputs": [
    {
     "name": "stderr",
     "output_type": "stream",
     "text": [
      "[nltk_data] Downloading package words to\n",
      "[nltk_data]     C:\\Users\\Zain\\AppData\\Roaming\\nltk_data...\n",
      "[nltk_data]   Package words is already up-to-date!\n"
     ]
    },
    {
     "data": {
      "text/plain": [
       "True"
      ]
     },
     "execution_count": 8,
     "metadata": {},
     "output_type": "execute_result"
    }
   ],
   "source": [
    "nltk.download('words')"
   ]
  },
  {
   "cell_type": "code",
   "execution_count": 9,
   "id": "de9883a7",
   "metadata": {},
   "outputs": [
    {
     "name": "stdout",
     "output_type": "stream",
     "text": [
      "['introduction', ':', 'city', 'life', 'dynamic', 'multifaceted', 'experience', 'encompasses', 'wide', 'array', 'contrasts', ',', 'challenges', ',', 'opportunities', '.', 'urbanization', 'continues', 'shape', 'modern', 'world', ',', 'people', 'find', 'drawn', 'vibrancy', 'excitement', 'city', 'living', '.', 'essay', ',', 'explore', 'intricate', 'tapestry', 'city', 'life', ',', 'examining', 'diverse', 'aspects', ',', 'bustling', 'streets', 'towering', 'skyscrapers', 'social', 'dynamics', 'cultural', 'richness', 'define', 'urban', 'existence', '.', 'dynamic', 'pulse', 'city', ':', 'cities', 'beating', 'hearts', 'human', 'civilization', ',', 'pulsating', 'energy', 'activity', '.', 'constant', 'hum', 'traffic', ',', 'towering', 'skyscrapers', 'pierce', 'skyline', ',', 'labyrinthine', 'streets', 'filled', 'diverse', 'faces', 'create', 'vivid', 'tapestry', 'characterizes', 'city', 'life', '.', 'city', \"'s\", 'dynamic', 'nature', 'reflected', 'ability', 'evolve', ',', 'adapt', ',', 'accommodate', 'ever-changing', 'needs', 'aspirations', 'inhabitants', '.', 'contrasts', 'city', 'living', ':', 'city', 'life', 'juxtaposition', 'contrasts', 'coexist', 'harmoniously', ',', 'creating', 'rich', 'mosaic', 'experiences', '.', 'one', 'hand', ',', 'glittering', 'symbols', 'progress', 'modernity', 'â€', '“', 'skyscrapers', ',', 'shopping', 'malls', ',', 'technological', 'marvels', 'define', 'urban', 'landscapes', '.', 'hand', ',', 'pockets', 'history', ',', 'culture', ',', 'tradition', ',', 'preserved', 'architecture', 'old', 'neighborhoods', ',', 'historic', 'landmarks', ',', 'cultural', 'institutions', '.', 'dichotomy', 'old', 'new', ',', 'fast-paced', 'leisurely', ',', 'defining', 'feature', 'city', 'living', '.', 'social', 'dynamics', 'diversity', ':', 'cities', 'melting', 'pots', 'diversity', ',', 'bringing', 'together', 'people', 'various', 'backgrounds', ',', 'cultures', ',', 'walks', 'life', '.', 'diversity', 'fosters', 'unique', 'social', 'dynamic', ',', 'interactions', 'individuals', 'lead', 'exchange', 'ideas', ',', 'perspectives', ',', 'traditions', '.', 'city', 'becomes', 'microcosm', 'broader', 'world', ',', 'offering', 'glimpse', 'richness', 'human', 'experiences', '.', 'however', ',', 'diversity', 'also', 'give', 'rise', 'social', 'challenges', ',', 'different', 'groups', 'navigate', 'coexistence', ',', 'bringing', 'forefront', 'issues', 'inequality', ',', 'discrimination', ',', 'social', 'justice', '.', 'cultural', 'richness', 'urban', 'arts', ':', 'city', 'life', 'often', 'synonymous', 'vibrant', 'cultural', 'scene', '.', 'theatres', ',', 'galleries', ',', 'museums', ',', 'performance', 'spaces', 'abound', ',', 'offering', 'plethora', 'cultural', 'experiences', 'residents', 'visitors', 'alike', '.', 'urban', 'arts', ',', 'including', 'street', 'art', ',', 'public', 'installations', ',', 'performances', ',', 'contribute', 'city', \"'s\", 'unique', 'identity', '.', 'cultural', 'richness', 'cities', 'testament', 'human', 'spirit', \"'s\", 'creative', 'expression', ',', 'serving', 'source', 'inspiration', 'reflection', 'societal', 'values', '.', 'challenges', 'city', 'living', ':', 'city', 'life', 'offers', 'numerous', 'opportunities', ',', 'also', 'presents', 'set', 'challenges', '.', 'overcrowding', ',', 'traffic', 'congestion', ',', 'environmental', 'pollution', 'common', 'issues', 'faced', 'city', 'dwellers', '.', 'fast-paced', 'lifestyle', 'lead', 'stress', ',', 'anxiety', ',', 'sense', 'isolation', '.', 'high', 'cost', 'living', 'cities', ',', 'exacerbated', 'soaring', 'housing', 'prices', ',', 'create', 'economic', 'disparities', 'limit', 'accessibility', 'certain', 'segments', 'population', '.', 'addressing', 'challenges', 'requires', 'innovative', 'urban', 'planning', ',', 'sustainable', 'development', ',', 'commitment', 'enhancing', 'quality', 'life', 'residents', '.', 'opportunities', 'personal', 'professional', 'growth', ':', 'city', 'life', 'often', 'synonymous', 'professional', 'educational', 'opportunities', '.', 'cities', 'hubs', 'innovation', ',', 'commerce', ',', 'academia', ',', 'providing', 'individuals', 'chance', 'pursue', 'aspirations', 'dreams', '.', 'educational', 'institutions', ',', 'research', 'centers', ',', 'job', 'markets', 'attract', 'ambitious', 'individuals', 'seeking', 'advance', 'careers', 'broaden', 'horizons', '.', 'exposure', 'diverse', 'industries', 'networks', 'fosters', 'personal', 'professional', 'growth', ',', 'allowing', 'individuals', 'carve', 'unique', 'paths', 'chosen', 'fields', '.', 'urban', 'green', 'spaces', ':', 'amidst', 'concrete', 'jungle', ',', 'cities', 'also', 'offer', 'oases', 'greenery', 'form', 'parks', ',', 'gardens', ',', 'recreational', 'spaces', '.', 'areas', 'serve', 'essential', 'breathing', 'spaces', ',', 'allowing', 'residents', 'escape', 'hustle', 'bustle', 'city', 'life', ',', 'connect', 'nature', ',', 'engage', 'recreational', 'activities', '.', 'urban', 'planners', 'recognize', 'importance', 'incorporating', 'green', 'spaces', 'city', 'design', ',', 'environmental', 'sustainability', 'also', 'well-being', 'residents', '.', 'conclusion', ':', 'city', 'life', 'complex', 'multifaceted', 'experience', 'captures', 'essence', 'human', 'civilization', \"'s\", 'evolution', '.', 'towering', 'skyscrapers', 'touch', 'heavens', 'vibrant', 'street', 'life', 'buzzes', 'activity', ',', 'cities', 'living', 'entities', 'shaped', 'dreams', ',', 'aspirations', ',', 'challenges', 'inhabitants', '.', 'city', 'living', 'may', 'come']\n"
     ]
    }
   ],
   "source": [
    "from nltk.corpus import stopwords\n",
    "stop_words=stopwords.words('english')\n",
    "without_stop_words=[]\n",
    "word_list=[]\n",
    "stop_list=[]\n",
    "for w in words:\n",
    "    if w not in stop_words:\n",
    "        word_list.append(w)\n",
    "    else:\n",
    "        stop_list.append(w)\n",
    "print(word_list)\n"
   ]
  },
  {
   "cell_type": "code",
   "execution_count": 10,
   "id": "b8b06fa8",
   "metadata": {},
   "outputs": [
    {
     "name": "stdout",
     "output_type": "stream",
     "text": [
      "['introduction', 'city', 'life', 'dynamic', 'multifaceted', 'experience', 'encompasses', 'wide', 'array', 'contrasts', 'challenges', 'opportunities', 'urbanization', 'continues', 'shape', 'modern', 'world', 'people', 'find', 'drawn', 'vibrancy', 'excitement', 'city', 'living', 'essay', 'explore', 'intricate', 'tapestry', 'city', 'life', 'examining', 'diverse', 'aspects', 'bustling', 'streets', 'towering', 'skyscrapers', 'social', 'dynamics', 'cultural', 'richness', 'define', 'urban', 'existence', 'dynamic', 'pulse', 'city', 'cities', 'beating', 'hearts', 'human', 'civilization', 'pulsating', 'energy', 'activity', 'constant', 'hum', 'traffic', 'towering', 'skyscrapers', 'pierce', 'skyline', 'labyrinthine', 'streets', 'filled', 'diverse', 'faces', 'create', 'vivid', 'tapestry', 'characterizes', 'city', 'life', 'city', \"'s\", 'dynamic', 'nature', 'reflected', 'ability', 'evolve', 'adapt', 'accommodate', 'ever-changing', 'needs', 'aspirations', 'inhabitants', 'contrasts', 'city', 'living', 'city', 'life', 'juxtaposition', 'contrasts', 'coexist', 'harmoniously', 'creating', 'rich', 'mosaic', 'experiences', 'one', 'hand', 'glittering', 'symbols', 'progress', 'modernity', 'â€', '“', 'skyscrapers', 'shopping', 'malls', 'technological', 'marvels', 'define', 'urban', 'landscapes', 'hand', 'pockets', 'history', 'culture', 'tradition', 'preserved', 'architecture', 'old', 'neighborhoods', 'historic', 'landmarks', 'cultural', 'institutions', 'dichotomy', 'old', 'new', 'fast-paced', 'leisurely', 'defining', 'feature', 'city', 'living', 'social', 'dynamics', 'diversity', 'cities', 'melting', 'pots', 'diversity', 'bringing', 'together', 'people', 'various', 'backgrounds', 'cultures', 'walks', 'life', 'diversity', 'fosters', 'unique', 'social', 'dynamic', 'interactions', 'individuals', 'lead', 'exchange', 'ideas', 'perspectives', 'traditions', 'city', 'becomes', 'microcosm', 'broader', 'world', 'offering', 'glimpse', 'richness', 'human', 'experiences', 'however', 'diversity', 'also', 'give', 'rise', 'social', 'challenges', 'different', 'groups', 'navigate', 'coexistence', 'bringing', 'forefront', 'issues', 'inequality', 'discrimination', 'social', 'justice', 'cultural', 'richness', 'urban', 'arts', 'city', 'life', 'often', 'synonymous', 'vibrant', 'cultural', 'scene', 'theatres', 'galleries', 'museums', 'performance', 'spaces', 'abound', 'offering', 'plethora', 'cultural', 'experiences', 'residents', 'visitors', 'alike', 'urban', 'arts', 'including', 'street', 'art', 'public', 'installations', 'performances', 'contribute', 'city', \"'s\", 'unique', 'identity', 'cultural', 'richness', 'cities', 'testament', 'human', 'spirit', \"'s\", 'creative', 'expression', 'serving', 'source', 'inspiration', 'reflection', 'societal', 'values', 'challenges', 'city', 'living', 'city', 'life', 'offers', 'numerous', 'opportunities', 'also', 'presents', 'set', 'challenges', 'overcrowding', 'traffic', 'congestion', 'environmental', 'pollution', 'common', 'issues', 'faced', 'city', 'dwellers', 'fast-paced', 'lifestyle', 'lead', 'stress', 'anxiety', 'sense', 'isolation', 'high', 'cost', 'living', 'cities', 'exacerbated', 'soaring', 'housing', 'prices', 'create', 'economic', 'disparities', 'limit', 'accessibility', 'certain', 'segments', 'population', 'addressing', 'challenges', 'requires', 'innovative', 'urban', 'planning', 'sustainable', 'development', 'commitment', 'enhancing', 'quality', 'life', 'residents', 'opportunities', 'personal', 'professional', 'growth', 'city', 'life', 'often', 'synonymous', 'professional', 'educational', 'opportunities', 'cities', 'hubs', 'innovation', 'commerce', 'academia', 'providing', 'individuals', 'chance', 'pursue', 'aspirations', 'dreams', 'educational', 'institutions', 'research', 'centers', 'job', 'markets', 'attract', 'ambitious', 'individuals', 'seeking', 'advance', 'careers', 'broaden', 'horizons', 'exposure', 'diverse', 'industries', 'networks', 'fosters', 'personal', 'professional', 'growth', 'allowing', 'individuals', 'carve', 'unique', 'paths', 'chosen', 'fields', 'urban', 'green', 'spaces', 'amidst', 'concrete', 'jungle', 'cities', 'also', 'offer', 'oases', 'greenery', 'form', 'parks', 'gardens', 'recreational', 'spaces', 'areas', 'serve', 'essential', 'breathing', 'spaces', 'allowing', 'residents', 'escape', 'hustle', 'bustle', 'city', 'life', 'connect', 'nature', 'engage', 'recreational', 'activities', 'urban', 'planners', 'recognize', 'importance', 'incorporating', 'green', 'spaces', 'city', 'design', 'environmental', 'sustainability', 'also', 'well-being', 'residents', 'conclusion', 'city', 'life', 'complex', 'multifaceted', 'experience', 'captures', 'essence', 'human', 'civilization', \"'s\", 'evolution', 'towering', 'skyscrapers', 'touch', 'heavens', 'vibrant', 'street', 'life', 'buzzes', 'activity', 'cities', 'living', 'entities', 'shaped', 'dreams', 'aspirations', 'challenges', 'inhabitants', 'city', 'living', 'may', 'come']\n",
      "[':', ',', ',', '.', ',', '.', ',', ',', ',', '.', ':', ',', '.', ',', ',', '.', ',', ',', '.', ':', ',', '.', ',', ',', ',', '.', ',', ',', ',', ',', ',', ',', '.', ',', ',', '.', ':', ',', ',', ',', '.', ',', ',', ',', '.', ',', '.', ',', ',', ',', ',', ',', '.', ':', '.', ',', ',', ',', ',', '.', ',', ',', ',', ',', '.', ',', '.', ':', ',', '.', ',', ',', '.', ',', ',', '.', ',', ',', '.', ',', ',', '.', ':', '.', ',', ',', ',', '.', ',', ',', '.', ',', '.', ':', ',', ',', ',', '.', ',', ',', ',', '.', ',', '.', ':', '.', ',', ',', ',', '.']\n"
     ]
    }
   ],
   "source": [
    "import string\n",
    "all_punctuation = list(string.punctuation)\n",
    "without_punk=[]\n",
    "final_words=[]\n",
    "punk_list=[]\n",
    "for w in word_list:\n",
    "    if w not in all_punctuation:\n",
    "        final_words.append(w)\n",
    "    else:\n",
    "        punk_list.append(w)\n",
    "print(final_words)\n",
    "print(punk_list)"
   ]
  },
  {
   "cell_type": "code",
   "execution_count": 11,
   "id": "d190c26c",
   "metadata": {},
   "outputs": [
    {
     "name": "stdout",
     "output_type": "stream",
     "text": [
      "Lemma: ['introduction', 'city', 'life', 'dynamic', 'multifaceted', 'experience', 'encompasses', 'wide', 'array', 'contrast', 'challenge', 'opportunity', 'urbanization', 'continues', 'shape', 'modern', 'world', 'people', 'find', 'drawn', 'vibrancy', 'excitement', 'city', 'living', 'essay', 'explore', 'intricate', 'tapestry', 'city', 'life', 'examining', 'diverse', 'aspect', 'bustling', 'street', 'towering', 'skyscraper', 'social', 'dynamic', 'cultural', 'richness', 'define', 'urban', 'existence', 'dynamic', 'pulse', 'city', 'city', 'beating', 'heart', 'human', 'civilization', 'pulsating', 'energy', 'activity', 'constant', 'hum', 'traffic', 'towering', 'skyscraper', 'pierce', 'skyline', 'labyrinthine', 'street', 'filled', 'diverse', 'face', 'create', 'vivid', 'tapestry', 'characterizes', 'city', 'life', 'city', \"'s\", 'dynamic', 'nature', 'reflected', 'ability', 'evolve', 'adapt', 'accommodate', 'ever-changing', 'need', 'aspiration', 'inhabitant', 'contrast', 'city', 'living', 'city', 'life', 'juxtaposition', 'contrast', 'coexist', 'harmoniously', 'creating', 'rich', 'mosaic', 'experience', 'one', 'hand', 'glittering', 'symbol', 'progress', 'modernity', 'â€', '“', 'skyscraper', 'shopping', 'mall', 'technological', 'marvel', 'define', 'urban', 'landscape', 'hand', 'pocket', 'history', 'culture', 'tradition', 'preserved', 'architecture', 'old', 'neighborhood', 'historic', 'landmark', 'cultural', 'institution', 'dichotomy', 'old', 'new', 'fast-paced', 'leisurely', 'defining', 'feature', 'city', 'living', 'social', 'dynamic', 'diversity', 'city', 'melting', 'pot', 'diversity', 'bringing', 'together', 'people', 'various', 'background', 'culture', 'walk', 'life', 'diversity', 'foster', 'unique', 'social', 'dynamic', 'interaction', 'individual', 'lead', 'exchange', 'idea', 'perspective', 'tradition', 'city', 'becomes', 'microcosm', 'broader', 'world', 'offering', 'glimpse', 'richness', 'human', 'experience', 'however', 'diversity', 'also', 'give', 'rise', 'social', 'challenge', 'different', 'group', 'navigate', 'coexistence', 'bringing', 'forefront', 'issue', 'inequality', 'discrimination', 'social', 'justice', 'cultural', 'richness', 'urban', 'art', 'city', 'life', 'often', 'synonymous', 'vibrant', 'cultural', 'scene', 'theatre', 'gallery', 'museum', 'performance', 'space', 'abound', 'offering', 'plethora', 'cultural', 'experience', 'resident', 'visitor', 'alike', 'urban', 'art', 'including', 'street', 'art', 'public', 'installation', 'performance', 'contribute', 'city', \"'s\", 'unique', 'identity', 'cultural', 'richness', 'city', 'testament', 'human', 'spirit', \"'s\", 'creative', 'expression', 'serving', 'source', 'inspiration', 'reflection', 'societal', 'value', 'challenge', 'city', 'living', 'city', 'life', 'offer', 'numerous', 'opportunity', 'also', 'present', 'set', 'challenge', 'overcrowding', 'traffic', 'congestion', 'environmental', 'pollution', 'common', 'issue', 'faced', 'city', 'dweller', 'fast-paced', 'lifestyle', 'lead', 'stress', 'anxiety', 'sense', 'isolation', 'high', 'cost', 'living', 'city', 'exacerbated', 'soaring', 'housing', 'price', 'create', 'economic', 'disparity', 'limit', 'accessibility', 'certain', 'segment', 'population', 'addressing', 'challenge', 'requires', 'innovative', 'urban', 'planning', 'sustainable', 'development', 'commitment', 'enhancing', 'quality', 'life', 'resident', 'opportunity', 'personal', 'professional', 'growth', 'city', 'life', 'often', 'synonymous', 'professional', 'educational', 'opportunity', 'city', 'hub', 'innovation', 'commerce', 'academia', 'providing', 'individual', 'chance', 'pursue', 'aspiration', 'dream', 'educational', 'institution', 'research', 'center', 'job', 'market', 'attract', 'ambitious', 'individual', 'seeking', 'advance', 'career', 'broaden', 'horizon', 'exposure', 'diverse', 'industry', 'network', 'foster', 'personal', 'professional', 'growth', 'allowing', 'individual', 'carve', 'unique', 'path', 'chosen', 'field', 'urban', 'green', 'space', 'amidst', 'concrete', 'jungle', 'city', 'also', 'offer', 'oasis', 'greenery', 'form', 'park', 'garden', 'recreational', 'space', 'area', 'serve', 'essential', 'breathing', 'space', 'allowing', 'resident', 'escape', 'hustle', 'bustle', 'city', 'life', 'connect', 'nature', 'engage', 'recreational', 'activity', 'urban', 'planner', 'recognize', 'importance', 'incorporating', 'green', 'space', 'city', 'design', 'environmental', 'sustainability', 'also', 'well-being', 'resident', 'conclusion', 'city', 'life', 'complex', 'multifaceted', 'experience', 'capture', 'essence', 'human', 'civilization', \"'s\", 'evolution', 'towering', 'skyscraper', 'touch', 'heaven', 'vibrant', 'street', 'life', 'buzz', 'activity', 'city', 'living', 'entity', 'shaped', 'dream', 'aspiration', 'challenge', 'inhabitant', 'city', 'living', 'may', 'come']\n"
     ]
    }
   ],
   "source": [
    "from nltk.stem import WordNetLemmatizer\n",
    "lemmatizer = WordNetLemmatizer()\n",
    "lemmatized_words = [lemmatizer.lemmatize(word) for word in final_words]\n",
    "print(\"Lemma:\", lemmatized_words)"
   ]
  },
  {
   "cell_type": "code",
   "execution_count": 12,
   "id": "caa03cb2",
   "metadata": {},
   "outputs": [
    {
     "name": "stdout",
     "output_type": "stream",
     "text": [
      "['introduction', 'city', 'life', 'dynamic', 'multifaceted', 'experience', 'wide', 'array', 'contrast', 'challenge', 'opportunity', 'urbanization', 'shape', 'modern', 'world', 'people', 'find', 'drawn', 'vibrancy', 'excitement', 'city', 'living', 'essay', 'explore', 'intricate', 'tapestry', 'city', 'life', 'examining', 'diverse', 'aspect', 'bustling', 'street', 'towering', 'skyscraper', 'social', 'dynamic', 'cultural', 'richness', 'define', 'urban', 'existence', 'dynamic', 'pulse', 'city', 'city', 'beating', 'heart', 'human', 'civilization', 'energy', 'activity', 'constant', 'hum', 'traffic', 'towering', 'skyscraper', 'pierce', 'labyrinthine', 'street', 'filled', 'diverse', 'face', 'create', 'vivid', 'tapestry', 'city', 'life', 'city', 'dynamic', 'nature', 'reflected', 'ability', 'evolve', 'adapt', 'accommodate', 'need', 'aspiration', 'inhabitant', 'contrast', 'city', 'living', 'city', 'life', 'juxtaposition', 'contrast', 'coexist', 'harmoniously', 'rich', 'mosaic', 'experience', 'one', 'hand', 'glittering', 'symbol', 'progress', 'modernity', 'skyscraper', 'shopping', 'mall', 'technological', 'marvel', 'define', 'urban', 'landscape', 'hand', 'pocket', 'history', 'culture', 'tradition', 'architecture', 'old', 'neighborhood', 'historic', 'landmark', 'cultural', 'institution', 'dichotomy', 'old', 'new', 'leisurely', 'feature', 'city', 'living', 'social', 'dynamic', 'diversity', 'city', 'melting', 'pot', 'diversity', 'together', 'people', 'various', 'background', 'culture', 'walk', 'life', 'diversity', 'foster', 'unique', 'social', 'dynamic', 'interaction', 'individual', 'lead', 'exchange', 'idea', 'perspective', 'tradition', 'city', 'becomes', 'microcosm', 'world', 'offering', 'glimpse', 'richness', 'human', 'experience', 'however', 'diversity', 'also', 'give', 'rise', 'social', 'challenge', 'different', 'group', 'navigate', 'coexistence', 'forefront', 'issue', 'inequality', 'discrimination', 'social', 'justice', 'cultural', 'richness', 'urban', 'art', 'city', 'life', 'often', 'synonymous', 'vibrant', 'cultural', 'scene', 'gallery', 'museum', 'performance', 'space', 'abound', 'offering', 'plethora', 'cultural', 'experience', 'resident', 'visitor', 'alike', 'urban', 'art', 'street', 'art', 'public', 'installation', 'performance', 'contribute', 'city', 'unique', 'identity', 'cultural', 'richness', 'city', 'testament', 'human', 'spirit', 'creative', 'expression', 'serving', 'source', 'inspiration', 'reflection', 'societal', 'value', 'challenge', 'city', 'living', 'city', 'life', 'offer', 'numerous', 'opportunity', 'also', 'present', 'set', 'challenge', 'traffic', 'congestion', 'environmental', 'pollution', 'common', 'issue', 'faced', 'city', 'dweller', 'lead', 'stress', 'anxiety', 'sense', 'isolation', 'high', 'cost', 'living', 'city', 'soaring', 'housing', 'price', 'create', 'economic', 'disparity', 'limit', 'accessibility', 'certain', 'segment', 'population', 'challenge', 'innovative', 'urban', 'sustainable', 'development', 'commitment', 'quality', 'life', 'resident', 'opportunity', 'personal', 'professional', 'growth', 'city', 'life', 'often', 'synonymous', 'professional', 'educational', 'opportunity', 'city', 'hub', 'innovation', 'commerce', 'providing', 'individual', 'chance', 'pursue', 'aspiration', 'dream', 'educational', 'institution', 'research', 'center', 'job', 'market', 'attract', 'ambitious', 'individual', 'seeking', 'advance', 'career', 'broaden', 'horizon', 'exposure', 'diverse', 'industry', 'network', 'foster', 'personal', 'professional', 'growth', 'individual', 'carve', 'unique', 'path', 'chosen', 'field', 'urban', 'green', 'space', 'amidst', 'concrete', 'jungle', 'city', 'also', 'offer', 'oasis', 'greenery', 'form', 'park', 'garden', 'recreational', 'space', 'area', 'serve', 'essential', 'breathing', 'space', 'resident', 'escape', 'hustle', 'bustle', 'city', 'life', 'connect', 'nature', 'engage', 'recreational', 'activity', 'urban', 'planner', 'recognize', 'importance', 'green', 'space', 'city', 'design', 'environmental', 'also', 'resident', 'conclusion', 'city', 'life', 'complex', 'multifaceted', 'experience', 'capture', 'essence', 'human', 'civilization', 'evolution', 'towering', 'skyscraper', 'touch', 'heaven', 'vibrant', 'street', 'life', 'buzz', 'activity', 'city', 'living', 'entity', 'shaped', 'dream', 'aspiration', 'challenge', 'inhabitant', 'city', 'living', 'may', 'come']\n",
      "['encompasses', 'continues', 'pulsating', 'skyline', 'characterizes', \"'s\", 'ever-changing', 'creating', 'â€', '“', 'preserved', 'fast-paced', 'defining', 'bringing', 'broader', 'bringing', 'theatre', 'including', \"'s\", \"'s\", 'overcrowding', 'fast-paced', 'lifestyle', 'exacerbated', 'addressing', 'requires', 'planning', 'enhancing', 'academia', 'allowing', 'allowing', 'incorporating', 'sustainability', 'well-being', \"'s\"]\n"
     ]
    }
   ],
   "source": [
    "from nltk.corpus import words\n",
    "dict_word = words.words()\n",
    "pres_words=[]\n",
    "spell_mistake=[]\n",
    "for w in lemmatized_words:\n",
    "    if w in dict_word:\n",
    "        pres_words.append(w)\n",
    "    else:\n",
    "        spell_mistake.append(w)\n",
    "print(pres_words)\n",
    "print(spell_mistake)"
   ]
  },
  {
   "cell_type": "code",
   "execution_count": 13,
   "id": "899ae691",
   "metadata": {},
   "outputs": [
    {
     "data": {
      "text/plain": [
       "398"
      ]
     },
     "execution_count": 13,
     "metadata": {},
     "output_type": "execute_result"
    }
   ],
   "source": [
    "len(pres_words)"
   ]
  },
  {
   "cell_type": "code",
   "execution_count": 14,
   "id": "a732de70",
   "metadata": {},
   "outputs": [
    {
     "data": {
      "text/plain": [
       "[('city', 27),\n",
       " ('life', 12),\n",
       " ('living', 7),\n",
       " ('urban', 7),\n",
       " ('dynamic', 6),\n",
       " ('challenge', 6),\n",
       " ('cultural', 6),\n",
       " ('experience', 5),\n",
       " ('social', 5),\n",
       " ('space', 5),\n",
       " ('opportunity', 4),\n",
       " ('street', 4),\n",
       " ('skyscraper', 4),\n",
       " ('richness', 4),\n",
       " ('human', 4),\n",
       " ('diversity', 4),\n",
       " ('individual', 4),\n",
       " ('also', 4),\n",
       " ('resident', 4),\n",
       " ('contrast', 3),\n",
       " ('diverse', 3),\n",
       " ('towering', 3),\n",
       " ('activity', 3),\n",
       " ('aspiration', 3),\n",
       " ('unique', 3),\n",
       " ('art', 3),\n",
       " ('professional', 3),\n",
       " ('multifaceted', 2),\n",
       " ('world', 2),\n",
       " ('people', 2),\n",
       " ('tapestry', 2),\n",
       " ('define', 2),\n",
       " ('civilization', 2),\n",
       " ('traffic', 2),\n",
       " ('create', 2),\n",
       " ('nature', 2),\n",
       " ('inhabitant', 2),\n",
       " ('hand', 2),\n",
       " ('culture', 2),\n",
       " ('tradition', 2),\n",
       " ('old', 2),\n",
       " ('institution', 2),\n",
       " ('foster', 2),\n",
       " ('lead', 2),\n",
       " ('offering', 2),\n",
       " ('issue', 2),\n",
       " ('often', 2),\n",
       " ('synonymous', 2),\n",
       " ('vibrant', 2),\n",
       " ('performance', 2),\n",
       " ('offer', 2),\n",
       " ('environmental', 2),\n",
       " ('personal', 2),\n",
       " ('growth', 2),\n",
       " ('educational', 2),\n",
       " ('dream', 2),\n",
       " ('green', 2),\n",
       " ('recreational', 2),\n",
       " ('introduction', 1),\n",
       " ('wide', 1),\n",
       " ('array', 1),\n",
       " ('urbanization', 1),\n",
       " ('shape', 1),\n",
       " ('modern', 1),\n",
       " ('find', 1),\n",
       " ('drawn', 1),\n",
       " ('vibrancy', 1),\n",
       " ('excitement', 1),\n",
       " ('essay', 1),\n",
       " ('explore', 1),\n",
       " ('intricate', 1),\n",
       " ('examining', 1),\n",
       " ('aspect', 1),\n",
       " ('bustling', 1),\n",
       " ('existence', 1),\n",
       " ('pulse', 1),\n",
       " ('beating', 1),\n",
       " ('heart', 1),\n",
       " ('energy', 1),\n",
       " ('constant', 1),\n",
       " ('hum', 1),\n",
       " ('pierce', 1),\n",
       " ('labyrinthine', 1),\n",
       " ('filled', 1),\n",
       " ('face', 1),\n",
       " ('vivid', 1),\n",
       " ('reflected', 1),\n",
       " ('ability', 1),\n",
       " ('evolve', 1),\n",
       " ('adapt', 1),\n",
       " ('accommodate', 1),\n",
       " ('need', 1),\n",
       " ('juxtaposition', 1),\n",
       " ('coexist', 1),\n",
       " ('harmoniously', 1),\n",
       " ('rich', 1),\n",
       " ('mosaic', 1),\n",
       " ('one', 1),\n",
       " ('glittering', 1),\n",
       " ('symbol', 1),\n",
       " ('progress', 1),\n",
       " ('modernity', 1),\n",
       " ('shopping', 1),\n",
       " ('mall', 1),\n",
       " ('technological', 1),\n",
       " ('marvel', 1),\n",
       " ('landscape', 1),\n",
       " ('pocket', 1),\n",
       " ('history', 1),\n",
       " ('architecture', 1),\n",
       " ('neighborhood', 1),\n",
       " ('historic', 1),\n",
       " ('landmark', 1),\n",
       " ('dichotomy', 1),\n",
       " ('new', 1),\n",
       " ('leisurely', 1),\n",
       " ('feature', 1),\n",
       " ('melting', 1),\n",
       " ('pot', 1),\n",
       " ('together', 1),\n",
       " ('various', 1),\n",
       " ('background', 1),\n",
       " ('walk', 1),\n",
       " ('interaction', 1),\n",
       " ('exchange', 1),\n",
       " ('idea', 1),\n",
       " ('perspective', 1),\n",
       " ('becomes', 1),\n",
       " ('microcosm', 1),\n",
       " ('glimpse', 1),\n",
       " ('however', 1),\n",
       " ('give', 1),\n",
       " ('rise', 1),\n",
       " ('different', 1),\n",
       " ('group', 1),\n",
       " ('navigate', 1),\n",
       " ('coexistence', 1),\n",
       " ('forefront', 1),\n",
       " ('inequality', 1),\n",
       " ('discrimination', 1),\n",
       " ('justice', 1),\n",
       " ('scene', 1),\n",
       " ('gallery', 1),\n",
       " ('museum', 1),\n",
       " ('abound', 1),\n",
       " ('plethora', 1),\n",
       " ('visitor', 1),\n",
       " ('alike', 1),\n",
       " ('public', 1),\n",
       " ('installation', 1),\n",
       " ('contribute', 1),\n",
       " ('identity', 1),\n",
       " ('testament', 1),\n",
       " ('spirit', 1),\n",
       " ('creative', 1),\n",
       " ('expression', 1),\n",
       " ('serving', 1),\n",
       " ('source', 1),\n",
       " ('inspiration', 1),\n",
       " ('reflection', 1),\n",
       " ('societal', 1),\n",
       " ('value', 1),\n",
       " ('numerous', 1),\n",
       " ('present', 1),\n",
       " ('set', 1),\n",
       " ('congestion', 1),\n",
       " ('pollution', 1),\n",
       " ('common', 1),\n",
       " ('faced', 1),\n",
       " ('dweller', 1),\n",
       " ('stress', 1),\n",
       " ('anxiety', 1),\n",
       " ('sense', 1),\n",
       " ('isolation', 1),\n",
       " ('high', 1),\n",
       " ('cost', 1),\n",
       " ('soaring', 1),\n",
       " ('housing', 1),\n",
       " ('price', 1),\n",
       " ('economic', 1),\n",
       " ('disparity', 1),\n",
       " ('limit', 1),\n",
       " ('accessibility', 1),\n",
       " ('certain', 1),\n",
       " ('segment', 1),\n",
       " ('population', 1),\n",
       " ('innovative', 1),\n",
       " ('sustainable', 1),\n",
       " ('development', 1),\n",
       " ('commitment', 1),\n",
       " ('quality', 1),\n",
       " ('hub', 1),\n",
       " ('innovation', 1),\n",
       " ('commerce', 1),\n",
       " ('providing', 1),\n",
       " ('chance', 1),\n",
       " ('pursue', 1),\n",
       " ('research', 1),\n",
       " ('center', 1),\n",
       " ('job', 1),\n",
       " ('market', 1),\n",
       " ('attract', 1),\n",
       " ('ambitious', 1),\n",
       " ('seeking', 1),\n",
       " ('advance', 1),\n",
       " ('career', 1),\n",
       " ('broaden', 1),\n",
       " ('horizon', 1),\n",
       " ('exposure', 1),\n",
       " ('industry', 1),\n",
       " ('network', 1),\n",
       " ('carve', 1),\n",
       " ('path', 1),\n",
       " ('chosen', 1),\n",
       " ('field', 1),\n",
       " ('amidst', 1),\n",
       " ('concrete', 1),\n",
       " ('jungle', 1),\n",
       " ('oasis', 1),\n",
       " ('greenery', 1),\n",
       " ('form', 1),\n",
       " ('park', 1),\n",
       " ('garden', 1),\n",
       " ('area', 1),\n",
       " ('serve', 1),\n",
       " ('essential', 1),\n",
       " ('breathing', 1),\n",
       " ('escape', 1),\n",
       " ('hustle', 1),\n",
       " ('bustle', 1),\n",
       " ('connect', 1),\n",
       " ('engage', 1),\n",
       " ('planner', 1),\n",
       " ('recognize', 1),\n",
       " ('importance', 1),\n",
       " ('design', 1),\n",
       " ('conclusion', 1),\n",
       " ('complex', 1),\n",
       " ('capture', 1),\n",
       " ('essence', 1),\n",
       " ('evolution', 1),\n",
       " ('touch', 1),\n",
       " ('heaven', 1),\n",
       " ('buzz', 1),\n",
       " ('entity', 1),\n",
       " ('shaped', 1),\n",
       " ('may', 1),\n",
       " ('come', 1)]"
      ]
     },
     "execution_count": 14,
     "metadata": {},
     "output_type": "execute_result"
    }
   ],
   "source": [
    "freq_dist = nltk.FreqDist(pres_words)\n",
    "rep=freq_dist.most_common()\n",
    "rep"
   ]
  },
  {
   "cell_type": "code",
   "execution_count": 22,
   "id": "3a04b4c3",
   "metadata": {},
   "outputs": [
    {
     "name": "stdout",
     "output_type": "stream",
     "text": [
      "Final marks: 26 Out of 100\n"
     ]
    }
   ],
   "source": [
    "total_marks = 100\n",
    "\n",
    "for word, frequency in rep:\n",
    "    if frequency >= 10:\n",
    "        total_marks -= 1 * frequency\n",
    "mistakes=len(spell_mistake)\n",
    "mistakes*=1\n",
    "total_marks-=mistakes\n",
    "print(\"Final marks:\", total_marks,\"Out of 100\")"
   ]
  },
  {
   "cell_type": "code",
   "execution_count": null,
   "id": "0ca09ff3",
   "metadata": {},
   "outputs": [],
   "source": []
  },
  {
   "cell_type": "code",
   "execution_count": null,
   "id": "0a280b97",
   "metadata": {},
   "outputs": [],
   "source": []
  }
 ],
 "metadata": {
  "kernelspec": {
   "display_name": "Python 3 (ipykernel)",
   "language": "python",
   "name": "python3"
  },
  "language_info": {
   "codemirror_mode": {
    "name": "ipython",
    "version": 3
   },
   "file_extension": ".py",
   "mimetype": "text/x-python",
   "name": "python",
   "nbconvert_exporter": "python",
   "pygments_lexer": "ipython3",
   "version": "3.10.9"
  }
 },
 "nbformat": 4,
 "nbformat_minor": 5
}
